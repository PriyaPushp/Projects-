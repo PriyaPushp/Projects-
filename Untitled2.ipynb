{
 "cells": [
  {
   "cell_type": "code",
   "execution_count": null,
   "id": "124a8523-b959-43b5-bf95-4a10e40d719a",
   "metadata": {},
   "outputs": [],
   "source": []
  },
  {
   "cell_type": "code",
   "execution_count": 6,
   "id": "e567145c-a737-41d2-a4dd-d721176cbddc",
   "metadata": {
    "scrolled": true
   },
   "outputs": [
    {
     "name": "stdin",
     "output_type": "stream",
     "text": [
      "What's your age?  27\n",
      "Please choose time unit: Months, Weeks, Days, Hours, Minutes, Seconds.  weeks\n"
     ]
    },
    {
     "name": "stdout",
     "output_type": "stream",
     "text": [
      "You lived for 1408 Weeks\n"
     ]
    }
   ],
   "source": [
    "def calculate_duration(age, unit):\n",
    "    # Constants for conversion\n",
    "    days_in_year = 365.25  # Average days in a year considering leap years\n",
    "\n",
    "    if unit.lower() in ['months', 'm']:\n",
    "        duration = age * 12\n",
    "        unit_name = 'Months'\n",
    "    elif unit.lower() in ['weeks', 'w']:\n",
    "        duration = age * days_in_year / 7\n",
    "        unit_name = 'Weeks'\n",
    "    elif unit.lower() in ['days', 'd']:\n",
    "        duration = age * days_in_year\n",
    "        unit_name = 'Days'\n",
    "    elif unit.lower() in ['hours', 'h']:\n",
    "        duration = age * days_in_year * 24\n",
    "        unit_name = 'Hours'\n",
    "    elif unit.lower() in ['minutes', 'min']:\n",
    "        duration = age * days_in_year * 24 * 60\n",
    "        unit_name = 'Minutes'\n",
    "    elif unit.lower() in ['seconds', 'sec']:\n",
    "        duration = age * days_in_year * 24 * 60 * 60\n",
    "        unit_name = 'Seconds'\n",
    "    else:\n",
    "        return \"Invalid time unit specified.\"\n",
    "\n",
    "    return f\"You lived for {int(duration)} {unit_name}\"\n",
    "\n",
    "# Main program\n",
    "if __name__ == \"__main__\":\n",
    "    # Input age\n",
    "    age = int(input(\"What's your age? \"))\n",
    "\n",
    "    # Input time unit\n",
    "    unit = input(\"Please choose time unit: Months, Weeks, Days, Hours, Minutes, Seconds. \").strip()\n",
    "\n",
    "    # Calculate duration and print the result\n",
    "    result = calculate_duration(age, unit)\n",
    "    print(result)\n"
   ]
  }
 ],
 "metadata": {
  "kernelspec": {
   "display_name": "Python 3 (ipykernel)",
   "language": "python",
   "name": "python3"
  },
  "language_info": {
   "codemirror_mode": {
    "name": "ipython",
    "version": 3
   },
   "file_extension": ".py",
   "mimetype": "text/x-python",
   "name": "python",
   "nbconvert_exporter": "python",
   "pygments_lexer": "ipython3",
   "version": "3.11.7"
  }
 },
 "nbformat": 4,
 "nbformat_minor": 5
}
